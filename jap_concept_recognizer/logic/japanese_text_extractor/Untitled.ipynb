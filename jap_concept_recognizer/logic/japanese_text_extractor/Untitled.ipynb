{
 "cells": [
  {
   "cell_type": "code",
   "execution_count": 1,
   "metadata": {},
   "outputs": [],
   "source": [
    "exp = open(\"test_exp.txt\", \"r\").read()"
   ]
  },
  {
   "cell_type": "code",
   "execution_count": 3,
   "metadata": {},
   "outputs": [],
   "source": [
    "import re"
   ]
  },
  {
   "cell_type": "code",
   "execution_count": 9,
   "metadata": {},
   "outputs": [],
   "source": [
    "def clean_html(text):\n",
    "    return re.sub(\"<[^>]+?>\", \"\", text)"
   ]
  },
  {
   "cell_type": "code",
   "execution_count": null,
   "metadata": {},
   "outputs": [],
   "source": []
  },
  {
   "cell_type": "code",
   "execution_count": 24,
   "metadata": {
    "scrolled": true
   },
   "outputs": [
    {
     "data": {
      "text/plain": [
       "['か',\n",
       " 'だ',\n",
       " '田中さん',\n",
       " 'お母さんはどこですか',\n",
       " '鈴木さん',\n",
       " '母は買い物に行きました',\n",
       " 'キムさん',\n",
       " 'イタリア料理を食べに行きませんか',\n",
       " '鈴木さん',\n",
       " 'すみません',\n",
       " 'ちょっと、お腹がいっぱいです',\n",
       " 'すみません',\n",
       " 'ごめんなさい',\n",
       " 'ごめん',\n",
       " 'か',\n",
       " 'か',\n",
       " 'こんなのを本当に食べるか',\n",
       " 'そんなのは、あるかよ',\n",
       " 'か',\n",
       " 'の',\n",
       " 'こんなのを本当に食べる',\n",
       " 'そんなのは、あるの']"
      ]
     },
     "execution_count": 24,
     "metadata": {},
     "output_type": "execute_result"
    }
   ],
   "source": [
    "pattern = \"[^a-zA-z0-9, .?\\n&;\\-:)(：。「」/？！!]+\"\n",
    "matches = re.finditer(pattern, clean_html(exp))\n",
    "sents = []\n",
    "for match in matches:\n",
    "    sents.append(match.group())"
   ]
  },
  {
   "cell_type": "code",
   "execution_count": null,
   "metadata": {},
   "outputs": [],
   "source": []
  },
  {
   "cell_type": "code",
   "execution_count": 14,
   "metadata": {
    "scrolled": true
   },
   "outputs": [
    {
     "data": {
      "text/plain": [
       "['「か」',\n",
       " '&',\n",
       " ';',\n",
       " '「だ」',\n",
       " '田中さん：お母さんはどこですか。',\n",
       " '-',\n",
       " ':',\n",
       " '(',\n",
       " ')',\n",
       " '鈴木さん：母は買い物に行きました。',\n",
       " '-',\n",
       " ':',\n",
       " '(',\n",
       " ')',\n",
       " 'キムさん：イタリア料理を食べに行きませんか。',\n",
       " '-',\n",
       " ':',\n",
       " '鈴木さん：すみません。ちょっと、お腹がいっぱいです。',\n",
       " '-',\n",
       " ':',\n",
       " '(',\n",
       " ')',\n",
       " '&',\n",
       " ';',\n",
       " '&',\n",
       " ';',\n",
       " '&',\n",
       " ';',\n",
       " '「すみません」',\n",
       " '「ごめんなさい」',\n",
       " '「ごめん」',\n",
       " '&',\n",
       " ';',\n",
       " '&',\n",
       " ';',\n",
       " '「か」',\n",
       " '「か」',\n",
       " 'こんなのを本当に食べるか？',\n",
       " '/',\n",
       " 'そんなのは、あるかよ！',\n",
       " '!',\n",
       " '「か」',\n",
       " 'の',\n",
       " 'こんなのを本当に食べる？',\n",
       " 'そんなのは、あるの？']"
      ]
     },
     "execution_count": 14,
     "metadata": {},
     "output_type": "execute_result"
    }
   ],
   "source": [
    "sents"
   ]
  },
  {
   "cell_type": "code",
   "execution_count": null,
   "metadata": {},
   "outputs": [],
   "source": []
  },
  {
   "cell_type": "code",
   "execution_count": null,
   "metadata": {},
   "outputs": [],
   "source": []
  }
 ],
 "metadata": {
  "kernelspec": {
   "display_name": "Python 3",
   "language": "python",
   "name": "python3"
  },
  "language_info": {
   "codemirror_mode": {
    "name": "ipython",
    "version": 3
   },
   "file_extension": ".py",
   "mimetype": "text/x-python",
   "name": "python",
   "nbconvert_exporter": "python",
   "pygments_lexer": "ipython3",
   "version": "3.7.2"
  }
 },
 "nbformat": 4,
 "nbformat_minor": 2
}
