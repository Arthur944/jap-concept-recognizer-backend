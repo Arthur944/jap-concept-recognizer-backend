{
 "cells": [
  {
   "cell_type": "code",
   "execution_count": null,
   "metadata": {},
   "outputs": [],
   "source": []
  },
  {
   "cell_type": "code",
   "execution_count": 9,
   "metadata": {},
   "outputs": [],
   "source": [
    "import sys\n",
    "from jap_prereq_creator import ConceptMapper\n",
    "import re\n",
    "\n",
    "# 35882 54020\n",
    "\n",
    "kanji_id = \"35882\"\n",
    "words_id = \"54020\"\n",
    "\n",
    "\n"
   ]
  },
  {
   "cell_type": "code",
   "execution_count": 10,
   "metadata": {},
   "outputs": [],
   "source": [
    "reference = [x.split(\";\") for x in open(\"id_reference.csv\", \"r\").read().splitlines()]\n",
    "words = {}\n",
    "for line in reference[1:]:\n",
    "    if line[1] == words_id:\n",
    "        word = re.search(\"from (.*) produce\", line[2]).group(1)\n",
    "        words[word] = {\"id\": line[0]}"
   ]
  },
  {
   "cell_type": "code",
   "execution_count": null,
   "metadata": {},
   "outputs": [],
   "source": []
  },
  {
   "cell_type": "code",
   "execution_count": 11,
   "metadata": {},
   "outputs": [],
   "source": [
    "words_csv = [x.split(\";\") for x in open(\"all_words.txt\", \"r\").readlines()]\n",
    "i = 0\n",
    "for line in words_csv:\n",
    "    kanji, pron, meaning = line\n",
    "    words[kanji] = {\"id\": i, \"pron\": pron, \"kanji\": kanji, \"meaning\": meaning.strip()}\n",
    "    i += 1"
   ]
  },
  {
   "cell_type": "code",
   "execution_count": 12,
   "metadata": {},
   "outputs": [],
   "source": [
    "ids = {}\n",
    "prons = {}\n",
    "for key in words.keys():\n",
    "    ids[words[key][\"id\"]] = words[key]\n",
    "    prons[words[key][\"pron\"]] = words[key]    "
   ]
  },
  {
   "cell_type": "code",
   "execution_count": 13,
   "metadata": {},
   "outputs": [],
   "source": [
    "sents = \"\"\"それを<b>一つ</b>ください。\n",
    "ソフトクリームを<b>二つ</b>ください。\n",
    "カレーライスは700<b>円</b>です。\n",
    "これはかなり<b>金</b>がかかった。\n",
    "<b>これ</b>をください。\n",
    "<b>水曜日</b>はバイトがあります。\n",
    "<b>あれ</b>は何ですか。\n",
    "お<b>先</b>にどうぞ。\n",
    "<b>八日</b>からイギリスに行きます。\n",
    "<b>そば</b>にいて下さい。\n",
    "<b>こっち</b>に来て下さい。\n",
    "<b>右</b>のポケットにハンカチが入っています。\n",
    "この本、あなたに<b>あげます</b>。\n",
    "<b>ここ</b>に本があります。\n",
    "この本は<b>とても</b>おもしろい。\n",
    "バナナが<b>七</b>本あります。\n",
    "分かった人は<b>手</b>を上げてください。\n",
    "<b>おなか</b>が空きました。\n",
    "レストランは<b>空いていました</b>。\"\"\"\n",
    "sents = re.sub(\"<b>(.*?)</b>\", r\"\\1\", sents).splitlines()"
   ]
  },
  {
   "cell_type": "code",
   "execution_count": 14,
   "metadata": {},
   "outputs": [
    {
     "data": {
      "text/plain": [
       "['それを一つください。',\n",
       " 'ソフトクリームを二つください。',\n",
       " 'カレーライスは700円です。',\n",
       " 'これはかなり金がかかった。',\n",
       " 'これをください。',\n",
       " '水曜日はバイトがあります。',\n",
       " 'あれは何ですか。',\n",
       " 'お先にどうぞ。',\n",
       " '八日からイギリスに行きます。',\n",
       " 'そばにいて下さい。',\n",
       " 'こっちに来て下さい。',\n",
       " '右のポケットにハンカチが入っています。',\n",
       " 'この本、あなたにあげます。',\n",
       " 'ここに本があります。',\n",
       " 'この本はとてもおもしろい。',\n",
       " 'バナナが七本あります。',\n",
       " '分かった人は手を上げてください。',\n",
       " 'おなかが空きました。',\n",
       " 'レストランは空いていました。']"
      ]
     },
     "execution_count": 14,
     "metadata": {},
     "output_type": "execute_result"
    }
   ],
   "source": [
    "sents"
   ]
  },
  {
   "cell_type": "code",
   "execution_count": 84,
   "metadata": {},
   "outputs": [],
   "source": []
  },
  {
   "cell_type": "code",
   "execution_count": 87,
   "metadata": {},
   "outputs": [
    {
     "data": {
      "text/plain": [
       "['カレーライス', 'ライター', '円', 'でこぼこ']"
      ]
     },
     "execution_count": 87,
     "metadata": {},
     "output_type": "execute_result"
    }
   ],
   "source": []
  },
  {
   "cell_type": "code",
   "execution_count": 1,
   "metadata": {},
   "outputs": [
    {
     "ename": "NameError",
     "evalue": "name 'sents' is not defined",
     "output_type": "error",
     "traceback": [
      "\u001b[1;31m---------------------------------------------------------------------------\u001b[0m",
      "\u001b[1;31mNameError\u001b[0m                                 Traceback (most recent call last)",
      "\u001b[1;32m<ipython-input-1-06fa8bfc8d80>\u001b[0m in \u001b[0;36m<module>\u001b[1;34m\u001b[0m\n\u001b[0;32m      5\u001b[0m     \u001b[0mkuromoji\u001b[0m \u001b[1;33m=\u001b[0m \u001b[0mkuro_server\u001b[0m\u001b[1;33m.\u001b[0m\u001b[0mkuromoji\u001b[0m\u001b[1;33m\u001b[0m\u001b[1;33m\u001b[0m\u001b[0m\n\u001b[0;32m      6\u001b[0m     \u001b[0mtokenizer\u001b[0m \u001b[1;33m=\u001b[0m \u001b[0mkuromoji\u001b[0m\u001b[1;33m.\u001b[0m\u001b[0mTokenizer\u001b[0m\u001b[1;33m.\u001b[0m\u001b[0mbuilder\u001b[0m\u001b[1;33m(\u001b[0m\u001b[1;33m)\u001b[0m\u001b[1;33m.\u001b[0m\u001b[0mbuild\u001b[0m\u001b[1;33m(\u001b[0m\u001b[1;33m)\u001b[0m\u001b[1;33m\u001b[0m\u001b[1;33m\u001b[0m\u001b[0m\n\u001b[1;32m----> 7\u001b[1;33m     \u001b[0mtokens\u001b[0m \u001b[1;33m=\u001b[0m \u001b[0mtokenizer\u001b[0m\u001b[1;33m.\u001b[0m\u001b[0mtokenize\u001b[0m\u001b[1;33m(\u001b[0m\u001b[0msents\u001b[0m\u001b[1;33m[\u001b[0m\u001b[1;36m1\u001b[0m\u001b[1;33m]\u001b[0m\u001b[1;33m)\u001b[0m\u001b[1;33m\u001b[0m\u001b[1;33m\u001b[0m\u001b[0m\n\u001b[0m\u001b[0;32m      8\u001b[0m     \u001b[1;32mfor\u001b[0m \u001b[0mtoken\u001b[0m \u001b[1;32min\u001b[0m \u001b[0mtokens\u001b[0m\u001b[1;33m:\u001b[0m\u001b[1;33m\u001b[0m\u001b[1;33m\u001b[0m\u001b[0m\n\u001b[0;32m      9\u001b[0m         \u001b[0msurface_form\u001b[0m \u001b[1;33m=\u001b[0m \u001b[0mtoken\u001b[0m\u001b[1;33m.\u001b[0m\u001b[0mgetSurfaceForm\u001b[0m\u001b[1;33m(\u001b[0m\u001b[1;33m)\u001b[0m\u001b[1;33m\u001b[0m\u001b[1;33m\u001b[0m\u001b[0m\n",
      "\u001b[1;31mNameError\u001b[0m: name 'sents' is not defined"
     ]
    }
   ],
   "source": [
    "from kuromojipy.kuromoji_server import KuromojiServer\n",
    "\n",
    "found = []\n",
    "with KuromojiServer() as kuro_server:\n",
    "    kuromoji = kuro_server.kuromoji\n",
    "    tokenizer = kuromoji.Tokenizer.builder().build()\n",
    "    tokens = tokenizer.tokenize(sents[1])\n",
    "    for token in tokens:\n",
    "        surface_form = token.getSurfaceForm()\n",
    "        print(surface_form)\n",
    "        if surface_form in words.keys():\n",
    "            found.append(words[surface_form])\n",
    "print(found)"
   ]
  },
  {
   "cell_type": "code",
   "execution_count": 21,
   "metadata": {},
   "outputs": [
    {
     "data": {
      "text/plain": [
       "{'id': 3712, 'pron': 'クリーム', 'kanji': 'クリーム', 'meaning': 'cream'}"
      ]
     },
     "execution_count": 21,
     "metadata": {},
     "output_type": "execute_result"
    }
   ],
   "source": [
    "words[\"クリーム\"]"
   ]
  },
  {
   "cell_type": "code",
   "execution_count": null,
   "metadata": {},
   "outputs": [],
   "source": []
  }
 ],
 "metadata": {
  "kernelspec": {
   "display_name": "Python 3",
   "language": "python",
   "name": "python3"
  },
  "language_info": {
   "codemirror_mode": {
    "name": "ipython",
    "version": 3
   },
   "file_extension": ".py",
   "mimetype": "text/x-python",
   "name": "python",
   "nbconvert_exporter": "python",
   "pygments_lexer": "ipython3",
   "version": "3.7.2"
  }
 },
 "nbformat": 4,
 "nbformat_minor": 2
}
