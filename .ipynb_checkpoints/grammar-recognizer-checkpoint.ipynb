{
 "cells": [
  {
   "cell_type": "code",
   "execution_count": 1,
   "metadata": {},
   "outputs": [],
   "source": [
    "import imp\n",
    "from kuromojipy.kuromoji_server import KuromojiServer\n",
    "kuro_server = KuromojiServer()\n",
    "from jap_concept_recognizer.logic.japanese_text_extractor import japanese_text_extractor\n",
    "from functools import reduce\n",
    "from jap_concept_recognizer.logic.grammar_recognizer import encode_tags\n",
    "import romkan"
   ]
  },
  {
   "cell_type": "code",
   "execution_count": 4,
   "metadata": {},
   "outputs": [],
   "source": [
    "import importlib\n",
    "from jap_concept_recognizer.logic import concept_mapper\n",
    "importlib.reload(concept_mapper)\n",
    "\n",
    "mapper = concept_mapper.ConceptMapper(kuro_server, \"jap_concept_recognizer/logic/id_reference.csv\", \"293\", \"490\")\n",
    "\n",
    "\n"
   ]
  },
  {
   "cell_type": "code",
   "execution_count": 5,
   "metadata": {},
   "outputs": [
    {
     "name": "stdout",
     "output_type": "stream",
     "text": [
      "end!\n"
     ]
    }
   ],
   "source": [
    "sents = {}\n",
    "with open(\"jap_concept_recognizer/logic/sentences.csv\", \"r\") as file:\n",
    "    next_line = \"asdf\"\n",
    "    while next_line != \"\":\n",
    "        next_line = file.readline()\n",
    "        splited = next_line.split(\"\\t\")\n",
    "        if len(splited) > 1 and splited[1] in [\"jpn\", \"eng\"]:\n",
    "            sents[splited[0]] = splited[1:]\n",
    "        if next_line == \"\":\n",
    "            print(\"end!\")\n",
    "            break"
   ]
  },
  {
   "cell_type": "code",
   "execution_count": 6,
   "metadata": {},
   "outputs": [],
   "source": [
    "translations = []\n",
    "with open(\"jap_concept_recognizer/logic/jpn_indices.csv\", \"r\") as file:\n",
    "    next_line = \"asdf\"\n",
    "    while next_line != \"\":\n",
    "        next_line = file.readline()\n",
    "        splited = next_line.split(\"\\t\")\n",
    "        if len(splited) == 3:\n",
    "            jp_id, eng_id, text = splited\n",
    "            if jp_id in sents and eng_id in sents:\n",
    "                translations.append([sents[jp_id][1].strip(), sents[eng_id][1].strip(), text])"
   ]
  },
  {
   "cell_type": "code",
   "execution_count": 9,
   "metadata": {},
   "outputs": [],
   "source": [
    "def count_missing():\n",
    "    missing = {}\n",
    "    good = 0\n",
    "    for sent in all_sents[:500]:\n",
    "        result = mapper.analyze_sent(sent)\n",
    "        if result[\"missing\"] != []:\n",
    "            for elem in result[\"missing\"]:\n",
    "                if elem[0] == \"から\":\n",
    "                    print(sent)\n",
    "                if elem[0] in missing:\n",
    "                    missing[elem[0]] += 1\n",
    "                else:\n",
    "                    missing[elem[0]] = 1\n",
    "        else:\n",
    "            good += 1\n",
    "    print(good/500)\n",
    "    print(list(sorted([(x, missing[x]) for x in missing.keys()], key=lambda x: x[1], reverse=True)))"
   ]
  },
  {
   "cell_type": "code",
   "execution_count": 9,
   "metadata": {},
   "outputs": [],
   "source": [
    "def sent_concepts_to_id(concept):\n",
    "    if type(concept) == concept_mapper.WordConcept and type(concept.produce) == list:\n",
    "        return [x.id for x in concept.read]\n",
    "    return [int(concept.read.id) if type(concept) == concept_mapper.WordConcept else int(concept.id)]\n",
    "\n",
    "def concept_to_exp(exp):\n",
    "    jap_texts = extract_japanese_text(exp)\n",
    "    results = [mapper.analyze_sent(x) for x in jap_texts]\n",
    "    concepts = reduce(lambda acc, curr_value: acc + [*curr_value[\"found_words\"], *curr_value[\"found_grammars\"]], results, [])\n",
    "    return list(set(concepts))\n",
    "\n",
    "def concepts_to_sent(results):\n",
    "    return reduce(lambda acc, curr: acc + [str(x) for x in sent_concepts_to_id(curr)], [*results[\"found_words\"], *results[\"found_grammars\"]], list())"
   ]
  },
  {
   "cell_type": "code",
   "execution_count": null,
   "metadata": {},
   "outputs": [],
   "source": []
  },
  {
   "cell_type": "code",
   "execution_count": 10,
   "metadata": {},
   "outputs": [],
   "source": [
    "def create_many_sent_cards():\n",
    "    sents = translations\n",
    "    lines = []\n",
    "    i = 0\n",
    "    for line in sents[:10]:\n",
    "        i += 1\n",
    "        try:\n",
    "            results = mapper.analyze_sent(line[0])\n",
    "            if results[\"missing\"] == []:\n",
    "                lines.append([\"What does this mean? <br /><h1>{}</h1>\".format(line[0]), \"<h1>\" + line[1] + \"</h1><span>({})</span>\".format(\"\".join([romkan.to_hiragana(romkan.to_roma(x[-1])) for x in mapper.pos_tag(line[0])])), \" \".join(concepts_to_sent(results))])\n",
    "        except:\n",
    "            print(line)\n",
    "    with open(\"outcards_3.csv\", \"w+\") as file:\n",
    "        file.write(\"\\n\".join([\";\".join(x) for x in lines]))"
   ]
  },
  {
   "cell_type": "code",
   "execution_count": null,
   "metadata": {},
   "outputs": [],
   "source": []
  },
  {
   "cell_type": "code",
   "execution_count": null,
   "metadata": {},
   "outputs": [],
   "source": []
  },
  {
   "cell_type": "code",
   "execution_count": null,
   "metadata": {},
   "outputs": [],
   "source": []
  },
  {
   "cell_type": "code",
   "execution_count": null,
   "metadata": {},
   "outputs": [],
   "source": []
  },
  {
   "cell_type": "code",
   "execution_count": null,
   "metadata": {},
   "outputs": [],
   "source": []
  },
  {
   "cell_type": "code",
   "execution_count": null,
   "metadata": {},
   "outputs": [],
   "source": []
  },
  {
   "cell_type": "code",
   "execution_count": null,
   "metadata": {},
   "outputs": [],
   "source": []
  },
  {
   "cell_type": "code",
   "execution_count": null,
   "metadata": {},
   "outputs": [],
   "source": []
  },
  {
   "cell_type": "code",
   "execution_count": null,
   "metadata": {},
   "outputs": [],
   "source": []
  },
  {
   "cell_type": "code",
   "execution_count": null,
   "metadata": {},
   "outputs": [],
   "source": []
  }
 ],
 "metadata": {
  "kernelspec": {
   "display_name": "Python 3",
   "language": "python",
   "name": "python3"
  }
 },
 "nbformat": 4,
 "nbformat_minor": 2
}
